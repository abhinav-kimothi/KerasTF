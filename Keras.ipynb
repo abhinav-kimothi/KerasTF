{
 "cells": [
  {
   "cell_type": "markdown",
   "metadata": {},
   "source": [
    "# Artificial Neural Networks with Keras"
   ]
  },
  {
   "cell_type": "markdown",
   "metadata": {},
   "source": [
    "#### 1. Perceptron"
   ]
  },
  {
   "cell_type": "markdown",
   "metadata": {},
   "source": [
    "![](https://miro.medium.com/v2/resize:fit:1400/1*n6sJ4yZQzwKL9wnF5wnVNg.png)"
   ]
  },
  {
   "cell_type": "code",
   "execution_count": 4,
   "metadata": {},
   "outputs": [],
   "source": [
    "import numpy as np\n",
    "from sklearn.datasets import load_iris\n",
    "from sklearn.linear_model import Perceptron"
   ]
  },
  {
   "cell_type": "code",
   "execution_count": 28,
   "metadata": {},
   "outputs": [],
   "source": [
    "iris=load_iris()\n",
    "X=iris.data[:,(2,3)]\n",
    "y=(iris.target==0)"
   ]
  },
  {
   "cell_type": "code",
   "execution_count": 30,
   "metadata": {},
   "outputs": [
    {
     "data": {
      "text/plain": [
       "array([ True])"
      ]
     },
     "execution_count": 30,
     "metadata": {},
     "output_type": "execute_result"
    }
   ],
   "source": [
    "\n",
    "per_clf=Perceptron()\n",
    "per_clf.fit(X,y)\n",
    "\n",
    "per_clf.predict([[1,.5]])"
   ]
  },
  {
   "cell_type": "code",
   "execution_count": 38,
   "metadata": {},
   "outputs": [],
   "source": [
    "import tensorflow as tf\n",
    "import keras"
   ]
  },
  {
   "cell_type": "code",
   "execution_count": 39,
   "metadata": {},
   "outputs": [
    {
     "data": {
      "text/plain": [
       "'2.15.0'"
      ]
     },
     "execution_count": 39,
     "metadata": {},
     "output_type": "execute_result"
    }
   ],
   "source": [
    "tf.__version__"
   ]
  },
  {
   "cell_type": "code",
   "execution_count": 40,
   "metadata": {},
   "outputs": [
    {
     "data": {
      "text/plain": [
       "'2.15.0'"
      ]
     },
     "execution_count": 40,
     "metadata": {},
     "output_type": "execute_result"
    }
   ],
   "source": [
    "keras.__version__"
   ]
  },
  {
   "cell_type": "markdown",
   "metadata": {},
   "source": [
    "#### 2. Multilayer Perceptron (Classification on Fashion MNIST Dataset)"
   ]
  },
  {
   "cell_type": "markdown",
   "metadata": {},
   "source": [
    "![](https://static.javatpoint.com/tutorial/tensorflow/images/multi-layer-perceptron-in-tensorflow.png)"
   ]
  },
  {
   "cell_type": "code",
   "execution_count": 41,
   "metadata": {},
   "outputs": [],
   "source": [
    "fashion_mnist=keras.datasets.fashion_mnist"
   ]
  },
  {
   "cell_type": "code",
   "execution_count": 42,
   "metadata": {},
   "outputs": [
    {
     "name": "stdout",
     "output_type": "stream",
     "text": [
      "Downloading data from https://storage.googleapis.com/tensorflow/tf-keras-datasets/train-labels-idx1-ubyte.gz\n",
      "29515/29515 [==============================] - 0s 0us/step\n",
      "Downloading data from https://storage.googleapis.com/tensorflow/tf-keras-datasets/train-images-idx3-ubyte.gz\n",
      "26421880/26421880 [==============================] - 3s 0us/step\n",
      "Downloading data from https://storage.googleapis.com/tensorflow/tf-keras-datasets/t10k-labels-idx1-ubyte.gz\n",
      "5148/5148 [==============================] - 0s 0us/step\n",
      "Downloading data from https://storage.googleapis.com/tensorflow/tf-keras-datasets/t10k-images-idx3-ubyte.gz\n",
      "4422102/4422102 [==============================] - 0s 0us/step\n"
     ]
    }
   ],
   "source": [
    "(X_train_full,y_train_full),(X_test,y_test)=fashion_mnist.load_data()"
   ]
  },
  {
   "cell_type": "code",
   "execution_count": 177,
   "metadata": {},
   "outputs": [
    {
     "data": {
      "text/plain": [
       "array([[  0,   0,   0,   0,   0,   0,   0,   0,   0,   0,   0,   0,   0,\n",
       "          0,   0,   0,   0,   0,   0,   0,   0,   0,   0,   0,   0,   0,\n",
       "          0,   0],\n",
       "       [  0,   0,   0,   0,   0,   0,   0,   0,   0,   0,   0,   0,   0,\n",
       "          0,   0,   0,   0,   0,   0,   0,   0,   0,   0,   0,   0,   0,\n",
       "          0,   0],\n",
       "       [  0,   0,   0,   0,   0,   0,   0,   0,   0,   0,   0,   0,   0,\n",
       "          0,   0,   0,   0,   0,   0,   0,   0,   0,   0,   0,   0,   0,\n",
       "          0,   0],\n",
       "       [  0,   0,   0,   0,   0,   0,   0,   0,   0,   0,   0,   0,   1,\n",
       "          0,   0,  13,  73,   0,   0,   1,   4,   0,   0,   0,   0,   1,\n",
       "          1,   0],\n",
       "       [  0,   0,   0,   0,   0,   0,   0,   0,   0,   0,   0,   0,   3,\n",
       "          0,  36, 136, 127,  62,  54,   0,   0,   0,   1,   3,   4,   0,\n",
       "          0,   3],\n",
       "       [  0,   0,   0,   0,   0,   0,   0,   0,   0,   0,   0,   0,   6,\n",
       "          0, 102, 204, 176, 134, 144, 123,  23,   0,   0,   0,   0,  12,\n",
       "         10,   0],\n",
       "       [  0,   0,   0,   0,   0,   0,   0,   0,   0,   0,   0,   0,   0,\n",
       "          0, 155, 236, 207, 178, 107, 156, 161, 109,  64,  23,  77, 130,\n",
       "         72,  15],\n",
       "       [  0,   0,   0,   0,   0,   0,   0,   0,   0,   0,   0,   1,   0,\n",
       "         69, 207, 223, 218, 216, 216, 163, 127, 121, 122, 146, 141,  88,\n",
       "        172,  66],\n",
       "       [  0,   0,   0,   0,   0,   0,   0,   0,   0,   1,   1,   1,   0,\n",
       "        200, 232, 232, 233, 229, 223, 223, 215, 213, 164, 127, 123, 196,\n",
       "        229,   0],\n",
       "       [  0,   0,   0,   0,   0,   0,   0,   0,   0,   0,   0,   0,   0,\n",
       "        183, 225, 216, 223, 228, 235, 227, 224, 222, 224, 221, 223, 245,\n",
       "        173,   0],\n",
       "       [  0,   0,   0,   0,   0,   0,   0,   0,   0,   0,   0,   0,   0,\n",
       "        193, 228, 218, 213, 198, 180, 212, 210, 211, 213, 223, 220, 243,\n",
       "        202,   0],\n",
       "       [  0,   0,   0,   0,   0,   0,   0,   0,   0,   1,   3,   0,  12,\n",
       "        219, 220, 212, 218, 192, 169, 227, 208, 218, 224, 212, 226, 197,\n",
       "        209,  52],\n",
       "       [  0,   0,   0,   0,   0,   0,   0,   0,   0,   0,   6,   0,  99,\n",
       "        244, 222, 220, 218, 203, 198, 221, 215, 213, 222, 220, 245, 119,\n",
       "        167,  56],\n",
       "       [  0,   0,   0,   0,   0,   0,   0,   0,   0,   4,   0,   0,  55,\n",
       "        236, 228, 230, 228, 240, 232, 213, 218, 223, 234, 217, 217, 209,\n",
       "         92,   0],\n",
       "       [  0,   0,   1,   4,   6,   7,   2,   0,   0,   0,   0,   0, 237,\n",
       "        226, 217, 223, 222, 219, 222, 221, 216, 223, 229, 215, 218, 255,\n",
       "         77,   0],\n",
       "       [  0,   3,   0,   0,   0,   0,   0,   0,   0,  62, 145, 204, 228,\n",
       "        207, 213, 221, 218, 208, 211, 218, 224, 223, 219, 215, 224, 244,\n",
       "        159,   0],\n",
       "       [  0,   0,   0,   0,  18,  44,  82, 107, 189, 228, 220, 222, 217,\n",
       "        226, 200, 205, 211, 230, 224, 234, 176, 188, 250, 248, 233, 238,\n",
       "        215,   0],\n",
       "       [  0,  57, 187, 208, 224, 221, 224, 208, 204, 214, 208, 209, 200,\n",
       "        159, 245, 193, 206, 223, 255, 255, 221, 234, 221, 211, 220, 232,\n",
       "        246,   0],\n",
       "       [  3, 202, 228, 224, 221, 211, 211, 214, 205, 205, 205, 220, 240,\n",
       "         80, 150, 255, 229, 221, 188, 154, 191, 210, 204, 209, 222, 228,\n",
       "        225,   0],\n",
       "       [ 98, 233, 198, 210, 222, 229, 229, 234, 249, 220, 194, 215, 217,\n",
       "        241,  65,  73, 106, 117, 168, 219, 221, 215, 217, 223, 223, 224,\n",
       "        229,  29],\n",
       "       [ 75, 204, 212, 204, 193, 205, 211, 225, 216, 185, 197, 206, 198,\n",
       "        213, 240, 195, 227, 245, 239, 223, 218, 212, 209, 222, 220, 221,\n",
       "        230,  67],\n",
       "       [ 48, 203, 183, 194, 213, 197, 185, 190, 194, 192, 202, 214, 219,\n",
       "        221, 220, 236, 225, 216, 199, 206, 186, 181, 177, 172, 181, 205,\n",
       "        206, 115],\n",
       "       [  0, 122, 219, 193, 179, 171, 183, 196, 204, 210, 213, 207, 211,\n",
       "        210, 200, 196, 194, 191, 195, 191, 198, 192, 176, 156, 167, 177,\n",
       "        210,  92],\n",
       "       [  0,   0,  74, 189, 212, 191, 175, 172, 175, 181, 185, 188, 189,\n",
       "        188, 193, 198, 204, 209, 210, 210, 211, 188, 188, 194, 192, 216,\n",
       "        170,   0],\n",
       "       [  2,   0,   0,   0,  66, 200, 222, 237, 239, 242, 246, 243, 244,\n",
       "        221, 220, 193, 191, 179, 182, 182, 181, 176, 166, 168,  99,  58,\n",
       "          0,   0],\n",
       "       [  0,   0,   0,   0,   0,   0,   0,  40,  61,  44,  72,  41,  35,\n",
       "          0,   0,   0,   0,   0,   0,   0,   0,   0,   0,   0,   0,   0,\n",
       "          0,   0],\n",
       "       [  0,   0,   0,   0,   0,   0,   0,   0,   0,   0,   0,   0,   0,\n",
       "          0,   0,   0,   0,   0,   0,   0,   0,   0,   0,   0,   0,   0,\n",
       "          0,   0],\n",
       "       [  0,   0,   0,   0,   0,   0,   0,   0,   0,   0,   0,   0,   0,\n",
       "          0,   0,   0,   0,   0,   0,   0,   0,   0,   0,   0,   0,   0,\n",
       "          0,   0]], dtype=uint8)"
      ]
     },
     "execution_count": 177,
     "metadata": {},
     "output_type": "execute_result"
    }
   ],
   "source": [
    "X_train_full[0]"
   ]
  },
  {
   "cell_type": "code",
   "execution_count": 179,
   "metadata": {},
   "outputs": [
    {
     "data": {
      "text/plain": [
       "(60000, 28, 28)"
      ]
     },
     "execution_count": 179,
     "metadata": {},
     "output_type": "execute_result"
    }
   ],
   "source": [
    "X_train_full.shape"
   ]
  },
  {
   "cell_type": "code",
   "execution_count": 180,
   "metadata": {},
   "outputs": [
    {
     "data": {
      "text/plain": [
       "(60000,)"
      ]
     },
     "execution_count": 180,
     "metadata": {},
     "output_type": "execute_result"
    }
   ],
   "source": [
    "y_train_full.shape"
   ]
  },
  {
   "cell_type": "code",
   "execution_count": 181,
   "metadata": {},
   "outputs": [
    {
     "data": {
      "text/plain": [
       "(10000, 28, 28)"
      ]
     },
     "execution_count": 181,
     "metadata": {},
     "output_type": "execute_result"
    }
   ],
   "source": [
    "X_test.shape"
   ]
  },
  {
   "cell_type": "code",
   "execution_count": 182,
   "metadata": {},
   "outputs": [
    {
     "data": {
      "text/plain": [
       "(10000,)"
      ]
     },
     "execution_count": 182,
     "metadata": {},
     "output_type": "execute_result"
    }
   ],
   "source": [
    "y_test.shape"
   ]
  },
  {
   "cell_type": "code",
   "execution_count": 52,
   "metadata": {},
   "outputs": [],
   "source": [
    "import matplotlib.pyplot as plt\n",
    "%matplotlib inline"
   ]
  },
  {
   "cell_type": "code",
   "execution_count": 178,
   "metadata": {},
   "outputs": [
    {
     "data": {
      "image/png": "[encoded data removed]",
      "text/plain": [
       "<Figure size 640x480 with 1 Axes>"
      ]
     },
     "metadata": {},
     "output_type": "display_data"
    }
   ],
   "source": [
    "image = X_train_full[3]\n",
    "\n",
    "# plot the sample\n",
    "fig = plt.figure\n",
    "plt.imshow(image, cmap='gray')\n",
    "plt.show()"
   ]
  },
  {
   "cell_type": "code",
   "execution_count": 145,
   "metadata": {},
   "outputs": [],
   "source": [
    "X_valid, X_train=X_train_full[:5000]/255.0, X_train_full[5000:54000]/255.0\n",
    "y_valid, y_train=y_train_full[:5000],y_train_full[5000:54000]"
   ]
  },
  {
   "cell_type": "code",
   "execution_count": 146,
   "metadata": {},
   "outputs": [
    {
     "data": {
      "text/plain": [
       "(49000, 28, 28)"
      ]
     },
     "execution_count": 146,
     "metadata": {},
     "output_type": "execute_result"
    }
   ],
   "source": [
    "X_train.shape"
   ]
  },
  {
   "cell_type": "code",
   "execution_count": 147,
   "metadata": {},
   "outputs": [
    {
     "data": {
      "text/plain": [
       "(5000, 28, 28)"
      ]
     },
     "execution_count": 147,
     "metadata": {},
     "output_type": "execute_result"
    }
   ],
   "source": [
    "X_valid.shape"
   ]
  },
  {
   "cell_type": "code",
   "execution_count": 148,
   "metadata": {},
   "outputs": [],
   "source": [
    "class_names=[\"T-shirt/top\",\"Trouser\",\"Pullover\",\"Dress\",\"Coat\",\"Sandal\",\"Shirt\",\"Sneaker\",\"Bag\",\"Ankle Boot\"]"
   ]
  },
  {
   "cell_type": "code",
   "execution_count": 183,
   "metadata": {},
   "outputs": [
    {
     "data": {
      "text/plain": [
       "'Dress'"
      ]
     },
     "execution_count": 183,
     "metadata": {},
     "output_type": "execute_result"
    }
   ],
   "source": [
    "class_names[y_train_full[3]]"
   ]
  },
  {
   "cell_type": "code",
   "execution_count": 184,
   "metadata": {},
   "outputs": [],
   "source": [
    "model=keras.models.Sequential()\n",
    "model.add(keras.layers.Flatten(input_shape=[28,28]))\n",
    "model.add(keras.layers.Dense(300,activation=\"relu\"))\n",
    "model.add(keras.layers.Dense(100,activation=\"relu\"))\n",
    "model.add(keras.layers.Dense(10,activation=\"softmax\"))"
   ]
  },
  {
   "cell_type": "code",
   "execution_count": 185,
   "metadata": {},
   "outputs": [
    {
     "name": "stdout",
     "output_type": "stream",
     "text": [
      "Model: \"sequential_4\"\n",
      "_________________________________________________________________\n",
      " Layer (type)                Output Shape              Param #   \n",
      "=================================================================\n",
      " flatten_4 (Flatten)         (None, 784)               0         \n",
      "                                                                 \n",
      " dense_12 (Dense)            (None, 300)               235500    \n",
      "                                                                 \n",
      " dense_13 (Dense)            (None, 100)               30100     \n",
      "                                                                 \n",
      " dense_14 (Dense)            (None, 10)                1010      \n",
      "                                                                 \n",
      "=================================================================\n",
      "Total params: 266610 (1.02 MB)\n",
      "Trainable params: 266610 (1.02 MB)\n",
      "Non-trainable params: 0 (0.00 Byte)\n",
      "_________________________________________________________________\n"
     ]
    }
   ],
   "source": [
    "model.summary()"
   ]
  },
  {
   "cell_type": "code",
   "execution_count": 152,
   "metadata": {},
   "outputs": [
    {
     "data": {
      "text/plain": [
       "[<keras.src.layers.reshaping.flatten.Flatten at 0x2ba4f51d0>,\n",
       " <keras.src.layers.core.dense.Dense at 0x30f5ef110>,\n",
       " <keras.src.layers.core.dense.Dense at 0x30f63b5d0>,\n",
       " <keras.src.layers.core.dense.Dense at 0x2ba4e6450>]"
      ]
     },
     "execution_count": 152,
     "metadata": {},
     "output_type": "execute_result"
    }
   ],
   "source": [
    "model.layers"
   ]
  },
  {
   "cell_type": "code",
   "execution_count": 153,
   "metadata": {},
   "outputs": [],
   "source": [
    "weights, biases=model.layers[1].get_weights()"
   ]
  },
  {
   "cell_type": "code",
   "execution_count": 186,
   "metadata": {},
   "outputs": [
    {
     "data": {
      "text/plain": [
       "array([[ 0.00461905, -0.03839632,  0.01537044, ..., -0.00854383,\n",
       "        -0.00961185, -0.03432111],\n",
       "       [-0.02585558,  0.04063921, -0.06579894, ...,  0.02366646,\n",
       "        -0.06885826, -0.02236181],\n",
       "       [-0.03024741, -0.05206218,  0.06646113, ...,  0.0089756 ,\n",
       "         0.04320583, -0.04595651],\n",
       "       ...,\n",
       "       [-0.03982868,  0.00224239,  0.00067526, ..., -0.06011513,\n",
       "        -0.04962067, -0.05647521],\n",
       "       [ 0.04108696, -0.04728068, -0.06717858, ..., -0.06355821,\n",
       "         0.05640616,  0.02776309],\n",
       "       [ 0.05424257, -0.05051976,  0.04078747, ..., -0.02763535,\n",
       "        -0.06453113,  0.04836854]], dtype=float32)"
      ]
     },
     "execution_count": 186,
     "metadata": {},
     "output_type": "execute_result"
    }
   ],
   "source": [
    "weights"
   ]
  },
  {
   "cell_type": "code",
   "execution_count": 155,
   "metadata": {},
   "outputs": [
    {
     "data": {
      "text/plain": [
       "array([0., 0., 0., 0., 0., 0., 0., 0., 0., 0., 0., 0., 0., 0., 0., 0., 0.,\n",
       "       0., 0., 0., 0., 0., 0., 0., 0., 0., 0., 0., 0., 0., 0., 0., 0., 0.,\n",
       "       0., 0., 0., 0., 0., 0., 0., 0., 0., 0., 0., 0., 0., 0., 0., 0., 0.,\n",
       "       0., 0., 0., 0., 0., 0., 0., 0., 0., 0., 0., 0., 0., 0., 0., 0., 0.,\n",
       "       0., 0., 0., 0., 0., 0., 0., 0., 0., 0., 0., 0., 0., 0., 0., 0., 0.,\n",
       "       0., 0., 0., 0., 0., 0., 0., 0., 0., 0., 0., 0., 0., 0., 0., 0., 0.,\n",
       "       0., 0., 0., 0., 0., 0., 0., 0., 0., 0., 0., 0., 0., 0., 0., 0., 0.,\n",
       "       0., 0., 0., 0., 0., 0., 0., 0., 0., 0., 0., 0., 0., 0., 0., 0., 0.,\n",
       "       0., 0., 0., 0., 0., 0., 0., 0., 0., 0., 0., 0., 0., 0., 0., 0., 0.,\n",
       "       0., 0., 0., 0., 0., 0., 0., 0., 0., 0., 0., 0., 0., 0., 0., 0., 0.,\n",
       "       0., 0., 0., 0., 0., 0., 0., 0., 0., 0., 0., 0., 0., 0., 0., 0., 0.,\n",
       "       0., 0., 0., 0., 0., 0., 0., 0., 0., 0., 0., 0., 0., 0., 0., 0., 0.,\n",
       "       0., 0., 0., 0., 0., 0., 0., 0., 0., 0., 0., 0., 0., 0., 0., 0., 0.,\n",
       "       0., 0., 0., 0., 0., 0., 0., 0., 0., 0., 0., 0., 0., 0., 0., 0., 0.,\n",
       "       0., 0., 0., 0., 0., 0., 0., 0., 0., 0., 0., 0., 0., 0., 0., 0., 0.,\n",
       "       0., 0., 0., 0., 0., 0., 0., 0., 0., 0., 0., 0., 0., 0., 0., 0., 0.,\n",
       "       0., 0., 0., 0., 0., 0., 0., 0., 0., 0., 0., 0., 0., 0., 0., 0., 0.,\n",
       "       0., 0., 0., 0., 0., 0., 0., 0., 0., 0., 0.], dtype=float32)"
      ]
     },
     "execution_count": 155,
     "metadata": {},
     "output_type": "execute_result"
    }
   ],
   "source": [
    "biases"
   ]
  },
  {
   "cell_type": "code",
   "execution_count": 187,
   "metadata": {},
   "outputs": [
    {
     "data": {
      "text/plain": [
       "(784, 300)"
      ]
     },
     "execution_count": 187,
     "metadata": {},
     "output_type": "execute_result"
    }
   ],
   "source": [
    "weights.shape"
   ]
  },
  {
   "cell_type": "code",
   "execution_count": 188,
   "metadata": {},
   "outputs": [
    {
     "data": {
      "text/plain": [
       "(300,)"
      ]
     },
     "execution_count": 188,
     "metadata": {},
     "output_type": "execute_result"
    }
   ],
   "source": [
    "biases.shape"
   ]
  },
  {
   "cell_type": "code",
   "execution_count": 189,
   "metadata": {},
   "outputs": [],
   "source": [
    "model.compile(loss=\"sparse_categorical_crossentropy\",\n",
    "              optimizer=\"adam\",\n",
    "              metrics=[\"accuracy\"])"
   ]
  },
  {
   "cell_type": "code",
   "execution_count": 202,
   "metadata": {},
   "outputs": [
    {
     "name": "stdout",
     "output_type": "stream",
     "text": [
      "Epoch 1/60\n",
      "1532/1532 [==============================] - 2s 1ms/step - loss: 0.1203 - accuracy: 0.9536 - val_loss: 0.4626 - val_accuracy: 0.8958\n",
      "Epoch 2/60\n",
      "1532/1532 [==============================] - 2s 1ms/step - loss: 0.1163 - accuracy: 0.9552 - val_loss: 0.4751 - val_accuracy: 0.9008\n",
      "Epoch 3/60\n",
      "1532/1532 [==============================] - 2s 1ms/step - loss: 0.1194 - accuracy: 0.9546 - val_loss: 0.4640 - val_accuracy: 0.8964\n",
      "Epoch 4/60\n",
      "1532/1532 [==============================] - 2s 1ms/step - loss: 0.1126 - accuracy: 0.9565 - val_loss: 0.4746 - val_accuracy: 0.8956\n",
      "Epoch 5/60\n",
      "1532/1532 [==============================] - 2s 1ms/step - loss: 0.1098 - accuracy: 0.9572 - val_loss: 0.4880 - val_accuracy: 0.8916\n",
      "Epoch 6/60\n",
      "1532/1532 [==============================] - 2s 1ms/step - loss: 0.1074 - accuracy: 0.9597 - val_loss: 0.4949 - val_accuracy: 0.8932\n",
      "Epoch 7/60\n",
      "1532/1532 [==============================] - 2s 1ms/step - loss: 0.1075 - accuracy: 0.9589 - val_loss: 0.5061 - val_accuracy: 0.8928\n",
      "Epoch 8/60\n",
      "1532/1532 [==============================] - 2s 1ms/step - loss: 0.1048 - accuracy: 0.9594 - val_loss: 0.5012 - val_accuracy: 0.8996\n",
      "Epoch 9/60\n",
      "1532/1532 [==============================] - 2s 1ms/step - loss: 0.1012 - accuracy: 0.9620 - val_loss: 0.5334 - val_accuracy: 0.8950\n",
      "Epoch 10/60\n",
      "1532/1532 [==============================] - 2s 1ms/step - loss: 0.0977 - accuracy: 0.9629 - val_loss: 0.4986 - val_accuracy: 0.8948\n",
      "Epoch 11/60\n",
      "1532/1532 [==============================] - 2s 1ms/step - loss: 0.0990 - accuracy: 0.9627 - val_loss: 0.5076 - val_accuracy: 0.8942\n",
      "Epoch 12/60\n",
      "1532/1532 [==============================] - 2s 1ms/step - loss: 0.0949 - accuracy: 0.9638 - val_loss: 0.5116 - val_accuracy: 0.9018\n",
      "Epoch 13/60\n",
      "1532/1532 [==============================] - 2s 1ms/step - loss: 0.0958 - accuracy: 0.9628 - val_loss: 0.5577 - val_accuracy: 0.8892\n",
      "Epoch 14/60\n",
      "1532/1532 [==============================] - 2s 1ms/step - loss: 0.0922 - accuracy: 0.9643 - val_loss: 0.5555 - val_accuracy: 0.8998\n",
      "Epoch 15/60\n",
      "1532/1532 [==============================] - 2s 1ms/step - loss: 0.0887 - accuracy: 0.9663 - val_loss: 0.5515 - val_accuracy: 0.8948\n",
      "Epoch 16/60\n",
      "1532/1532 [==============================] - 2s 1ms/step - loss: 0.0926 - accuracy: 0.9646 - val_loss: 0.6008 - val_accuracy: 0.8960\n",
      "Epoch 17/60\n",
      "1532/1532 [==============================] - 2s 1ms/step - loss: 0.0857 - accuracy: 0.9671 - val_loss: 0.5760 - val_accuracy: 0.8940\n",
      "Epoch 18/60\n",
      "1532/1532 [==============================] - 2s 1ms/step - loss: 0.0861 - accuracy: 0.9673 - val_loss: 0.5723 - val_accuracy: 0.8980\n",
      "Epoch 19/60\n",
      "1532/1532 [==============================] - 2s 1ms/step - loss: 0.0833 - accuracy: 0.9681 - val_loss: 0.5885 - val_accuracy: 0.8978\n",
      "Epoch 20/60\n",
      "1532/1532 [==============================] - 2s 1ms/step - loss: 0.0828 - accuracy: 0.9686 - val_loss: 0.6254 - val_accuracy: 0.8924\n",
      "Epoch 21/60\n",
      "1532/1532 [==============================] - 2s 1ms/step - loss: 0.0801 - accuracy: 0.9698 - val_loss: 0.6116 - val_accuracy: 0.8978\n",
      "Epoch 22/60\n",
      "1532/1532 [==============================] - 2s 1ms/step - loss: 0.0785 - accuracy: 0.9705 - val_loss: 0.6133 - val_accuracy: 0.8984\n",
      "Epoch 23/60\n",
      "1532/1532 [==============================] - 2s 1ms/step - loss: 0.0739 - accuracy: 0.9712 - val_loss: 0.6249 - val_accuracy: 0.8974\n",
      "Epoch 24/60\n",
      "1532/1532 [==============================] - 2s 1ms/step - loss: 0.0822 - accuracy: 0.9696 - val_loss: 0.6195 - val_accuracy: 0.8980\n",
      "Epoch 25/60\n",
      "1532/1532 [==============================] - 2s 1ms/step - loss: 0.0750 - accuracy: 0.9725 - val_loss: 0.6446 - val_accuracy: 0.8982\n",
      "Epoch 26/60\n",
      "1532/1532 [==============================] - 2s 1ms/step - loss: 0.0741 - accuracy: 0.9717 - val_loss: 0.6072 - val_accuracy: 0.8934\n",
      "Epoch 27/60\n",
      "1532/1532 [==============================] - 2s 1ms/step - loss: 0.0711 - accuracy: 0.9728 - val_loss: 0.6244 - val_accuracy: 0.9002\n",
      "Epoch 28/60\n",
      "1532/1532 [==============================] - 2s 1ms/step - loss: 0.0754 - accuracy: 0.9712 - val_loss: 0.6765 - val_accuracy: 0.8986\n",
      "Epoch 29/60\n",
      "1532/1532 [==============================] - 2s 1ms/step - loss: 0.0699 - accuracy: 0.9739 - val_loss: 0.6942 - val_accuracy: 0.8944\n",
      "Epoch 30/60\n",
      "1532/1532 [==============================] - 2s 1ms/step - loss: 0.0678 - accuracy: 0.9741 - val_loss: 0.6493 - val_accuracy: 0.8980\n",
      "Epoch 31/60\n",
      "1532/1532 [==============================] - 2s 1ms/step - loss: 0.0688 - accuracy: 0.9740 - val_loss: 0.6989 - val_accuracy: 0.8976\n",
      "Epoch 32/60\n",
      "1532/1532 [==============================] - 2s 1ms/step - loss: 0.0684 - accuracy: 0.9742 - val_loss: 0.6887 - val_accuracy: 0.8954\n",
      "Epoch 33/60\n",
      "1532/1532 [==============================] - 2s 1ms/step - loss: 0.0688 - accuracy: 0.9733 - val_loss: 0.7302 - val_accuracy: 0.8962\n",
      "Epoch 34/60\n",
      "1532/1532 [==============================] - 2s 1ms/step - loss: 0.0648 - accuracy: 0.9752 - val_loss: 0.6345 - val_accuracy: 0.8996\n",
      "Epoch 35/60\n",
      "1532/1532 [==============================] - 2s 1ms/step - loss: 0.0630 - accuracy: 0.9768 - val_loss: 0.7047 - val_accuracy: 0.8942\n",
      "Epoch 36/60\n",
      "1532/1532 [==============================] - 2s 1ms/step - loss: 0.0670 - accuracy: 0.9747 - val_loss: 0.7002 - val_accuracy: 0.9010\n",
      "Epoch 37/60\n",
      "1532/1532 [==============================] - 2s 1ms/step - loss: 0.0662 - accuracy: 0.9752 - val_loss: 0.6725 - val_accuracy: 0.8958\n",
      "Epoch 38/60\n",
      "1532/1532 [==============================] - 2s 1ms/step - loss: 0.0648 - accuracy: 0.9763 - val_loss: 0.7187 - val_accuracy: 0.9004\n",
      "Epoch 39/60\n",
      "1532/1532 [==============================] - 2s 1ms/step - loss: 0.0605 - accuracy: 0.9782 - val_loss: 0.6822 - val_accuracy: 0.8980\n",
      "Epoch 40/60\n",
      "1532/1532 [==============================] - 2s 1ms/step - loss: 0.0591 - accuracy: 0.9779 - val_loss: 0.7546 - val_accuracy: 0.9030\n",
      "Epoch 41/60\n",
      "1532/1532 [==============================] - 2s 1ms/step - loss: 0.0619 - accuracy: 0.9779 - val_loss: 0.7722 - val_accuracy: 0.8972\n",
      "Epoch 42/60\n",
      "1532/1532 [==============================] - 2s 1ms/step - loss: 0.0570 - accuracy: 0.9782 - val_loss: 0.6926 - val_accuracy: 0.8950\n",
      "Epoch 43/60\n",
      "1532/1532 [==============================] - 2s 1ms/step - loss: 0.0584 - accuracy: 0.9785 - val_loss: 0.7668 - val_accuracy: 0.8930\n",
      "Epoch 44/60\n",
      "1532/1532 [==============================] - 2s 1ms/step - loss: 0.0573 - accuracy: 0.9788 - val_loss: 0.7538 - val_accuracy: 0.9028\n",
      "Epoch 45/60\n",
      "1532/1532 [==============================] - 2s 1ms/step - loss: 0.0556 - accuracy: 0.9794 - val_loss: 0.7939 - val_accuracy: 0.8970\n",
      "Epoch 46/60\n",
      "1532/1532 [==============================] - 2s 1ms/step - loss: 0.0605 - accuracy: 0.9778 - val_loss: 0.7643 - val_accuracy: 0.8976\n",
      "Epoch 47/60\n",
      "1532/1532 [==============================] - 2s 1ms/step - loss: 0.0546 - accuracy: 0.9799 - val_loss: 0.7984 - val_accuracy: 0.8928\n",
      "Epoch 48/60\n",
      "1532/1532 [==============================] - 2s 1ms/step - loss: 0.0558 - accuracy: 0.9807 - val_loss: 0.8368 - val_accuracy: 0.8934\n",
      "Epoch 49/60\n",
      "1532/1532 [==============================] - 2s 1ms/step - loss: 0.0619 - accuracy: 0.9784 - val_loss: 0.8032 - val_accuracy: 0.8964\n",
      "Epoch 50/60\n",
      "1532/1532 [==============================] - 2s 1ms/step - loss: 0.0488 - accuracy: 0.9829 - val_loss: 0.7999 - val_accuracy: 0.8940\n",
      "Epoch 51/60\n",
      "1532/1532 [==============================] - 2s 1ms/step - loss: 0.0568 - accuracy: 0.9792 - val_loss: 0.7590 - val_accuracy: 0.8992\n",
      "Epoch 52/60\n",
      "1532/1532 [==============================] - 2s 1ms/step - loss: 0.0493 - accuracy: 0.9819 - val_loss: 0.8795 - val_accuracy: 0.8916\n",
      "Epoch 53/60\n",
      "1532/1532 [==============================] - 2s 1ms/step - loss: 0.0528 - accuracy: 0.9804 - val_loss: 0.7841 - val_accuracy: 0.9008\n",
      "Epoch 54/60\n",
      "1532/1532 [==============================] - 2s 1ms/step - loss: 0.0495 - accuracy: 0.9817 - val_loss: 0.8268 - val_accuracy: 0.8976\n",
      "Epoch 55/60\n",
      "1532/1532 [==============================] - 2s 1ms/step - loss: 0.0510 - accuracy: 0.9819 - val_loss: 0.8841 - val_accuracy: 0.8996\n",
      "Epoch 56/60\n",
      "1532/1532 [==============================] - 2s 1ms/step - loss: 0.0515 - accuracy: 0.9813 - val_loss: 0.7838 - val_accuracy: 0.8980\n",
      "Epoch 57/60\n",
      "1532/1532 [==============================] - 2s 1ms/step - loss: 0.0426 - accuracy: 0.9840 - val_loss: 0.8425 - val_accuracy: 0.8928\n",
      "Epoch 58/60\n",
      "1532/1532 [==============================] - 2s 1ms/step - loss: 0.0523 - accuracy: 0.9812 - val_loss: 0.8112 - val_accuracy: 0.8946\n",
      "Epoch 59/60\n",
      "1532/1532 [==============================] - 2s 1ms/step - loss: 0.0498 - accuracy: 0.9819 - val_loss: 0.9166 - val_accuracy: 0.8950\n",
      "Epoch 60/60\n",
      "1532/1532 [==============================] - 2s 1ms/step - loss: 0.0505 - accuracy: 0.9813 - val_loss: 0.8351 - val_accuracy: 0.8944\n"
     ]
    }
   ],
   "source": [
    "history=model.fit(X_train,y_train, epochs=60,validation_data=(X_valid,y_valid), batch_size=32)"
   ]
  },
  {
   "cell_type": "code",
   "execution_count": 203,
   "metadata": {},
   "outputs": [
    {
     "data": {
      "text/plain": [
       "{'verbose': 1, 'epochs': 60, 'steps': 1532}"
      ]
     },
     "execution_count": 203,
     "metadata": {},
     "output_type": "execute_result"
    }
   ],
   "source": [
    "history.params"
   ]
  },
  {
   "cell_type": "code",
   "execution_count": 213,
   "metadata": {},
   "outputs": [
    {
     "name": "stdout",
     "output_type": "stream",
     "text": [
      "313/313 [==============================] - 0s 581us/step - loss: 1.0255 - accuracy: 0.8779\n"
     ]
    },
    {
     "data": {
      "text/plain": [
       "[1.025470495223999, 0.8779000043869019]"
      ]
     },
     "execution_count": 213,
     "metadata": {},
     "output_type": "execute_result"
    }
   ],
   "source": [
    "model.evaluate(X_test/255.0,y_test)"
   ]
  },
  {
   "cell_type": "code",
   "execution_count": 204,
   "metadata": {},
   "outputs": [
    {
     "name": "stdout",
     "output_type": "stream",
     "text": [
      "1/1 [==============================] - 0s 14ms/step\n"
     ]
    },
    {
     "data": {
      "text/plain": [
       "array([[6.2605668e-22, 2.1926591e-36, 1.9778595e-21, 6.2483478e-38,\n",
       "        1.6459982e-25, 7.0600454e-17, 3.6967403e-26, 5.0601538e-19,\n",
       "        1.4741959e-27, 1.0000000e+00]], dtype=float32)"
      ]
     },
     "execution_count": 204,
     "metadata": {},
     "output_type": "execute_result"
    }
   ],
   "source": [
    "model.predict(X_train[3:4])"
   ]
  },
  {
   "cell_type": "code",
   "execution_count": 205,
   "metadata": {},
   "outputs": [
    {
     "name": "stdout",
     "output_type": "stream",
     "text": [
      "1/1 [==============================] - 0s 13ms/step\n"
     ]
    }
   ],
   "source": [
    "predict=model.predict(X_train[3:4])"
   ]
  },
  {
   "cell_type": "code",
   "execution_count": 206,
   "metadata": {},
   "outputs": [
    {
     "data": {
      "text/plain": [
       "9"
      ]
     },
     "execution_count": 206,
     "metadata": {},
     "output_type": "execute_result"
    }
   ],
   "source": [
    "np.argmax(predict[0])"
   ]
  },
  {
   "cell_type": "code",
   "execution_count": 207,
   "metadata": {},
   "outputs": [
    {
     "data": {
      "text/plain": [
       "'Ankle Boot'"
      ]
     },
     "execution_count": 207,
     "metadata": {},
     "output_type": "execute_result"
    }
   ],
   "source": [
    "class_names[np.argmax(predict[0])]"
   ]
  },
  {
   "cell_type": "code",
   "execution_count": 208,
   "metadata": {},
   "outputs": [
    {
     "data": {
      "image/png": "[encoded data removed]",
      "text/plain": [
       "<Figure size 640x480 with 1 Axes>"
      ]
     },
     "metadata": {},
     "output_type": "display_data"
    }
   ],
   "source": [
    "image = X_train_full[5003]\n",
    "\n",
    "# plot the sample\n",
    "fig = plt.figure\n",
    "plt.imshow(image, cmap='gray')\n",
    "plt.show()"
   ]
  },
  {
   "cell_type": "code",
   "execution_count": 209,
   "metadata": {},
   "outputs": [],
   "source": [
    "import pandas as pd"
   ]
  },
  {
   "cell_type": "code",
   "execution_count": 210,
   "metadata": {},
   "outputs": [
    {
     "data": {
      "image/png": "[encoded data removed]",
      "text/plain": [
       "<Figure size 800x500 with 1 Axes>"
      ]
     },
     "metadata": {},
     "output_type": "display_data"
    }
   ],
   "source": [
    "pd.DataFrame(history.history).plot(figsize=(8,5))\n",
    "plt.grid(True)\n",
    "plt.gca().set_ylim(0,1)\n",
    "plt.show()"
   ]
  },
  {
   "cell_type": "markdown",
   "metadata": {},
   "source": [
    "#### 3. Multilayer Perceptron (Regression on California Housing Dataset)"
   ]
  },
  {
   "cell_type": "code",
   "execution_count": 214,
   "metadata": {},
   "outputs": [],
   "source": [
    "from sklearn.datasets import fetch_california_housing\n",
    "from sklearn.model_selection import train_test_split\n",
    "from sklearn.preprocessing import StandardScaler"
   ]
  },
  {
   "cell_type": "code",
   "execution_count": 215,
   "metadata": {},
   "outputs": [],
   "source": [
    "housing=fetch_california_housing()"
   ]
  },
  {
   "cell_type": "code",
   "execution_count": 238,
   "metadata": {},
   "outputs": [],
   "source": [
    "X_train_full, X_test, y_train_full, y_test=train_test_split(housing.data,housing.target, test_size=.2, random_state=42)\n",
    "X_train, X_valid, y_train, y_valid=train_test_split(X_train_full, y_train_full, test_size=.3, random_state=43)"
   ]
  },
  {
   "cell_type": "code",
   "execution_count": 239,
   "metadata": {},
   "outputs": [
    {
     "data": {
      "text/plain": [
       "(16512, 8)"
      ]
     },
     "execution_count": 239,
     "metadata": {},
     "output_type": "execute_result"
    }
   ],
   "source": [
    "X_train_full.shape"
   ]
  },
  {
   "cell_type": "code",
   "execution_count": 240,
   "metadata": {},
   "outputs": [
    {
     "data": {
      "text/plain": [
       "(4128, 8)"
      ]
     },
     "execution_count": 240,
     "metadata": {},
     "output_type": "execute_result"
    }
   ],
   "source": [
    "X_test.shape"
   ]
  },
  {
   "cell_type": "code",
   "execution_count": 241,
   "metadata": {},
   "outputs": [
    {
     "data": {
      "text/plain": [
       "(11558, 8)"
      ]
     },
     "execution_count": 241,
     "metadata": {},
     "output_type": "execute_result"
    }
   ],
   "source": [
    "X_train.shape"
   ]
  },
  {
   "cell_type": "code",
   "execution_count": 242,
   "metadata": {},
   "outputs": [
    {
     "data": {
      "text/plain": [
       "(4954, 8)"
      ]
     },
     "execution_count": 242,
     "metadata": {},
     "output_type": "execute_result"
    }
   ],
   "source": [
    "X_valid.shape"
   ]
  },
  {
   "cell_type": "code",
   "execution_count": 243,
   "metadata": {},
   "outputs": [],
   "source": [
    "scaler=StandardScaler()"
   ]
  },
  {
   "cell_type": "code",
   "execution_count": 244,
   "metadata": {},
   "outputs": [],
   "source": [
    "X_train=scaler.fit_transform(X_train)\n",
    "X_valid=scaler.transform(X_valid)\n",
    "X_test=scaler.transform(X_test)"
   ]
  },
  {
   "cell_type": "code",
   "execution_count": 273,
   "metadata": {},
   "outputs": [],
   "source": [
    "model=keras.models.Sequential([\n",
    "    keras.layers.Dense(300, activation=\"relu\", input_shape=X_train.shape[1:]),\n",
    "    keras.layers.Dense(100,activation=\"relu\"),\n",
    "    keras.layers.Dense(1)\n",
    "])"
   ]
  },
  {
   "cell_type": "code",
   "execution_count": 274,
   "metadata": {},
   "outputs": [
    {
     "name": "stdout",
     "output_type": "stream",
     "text": [
      "Model: \"sequential_9\"\n",
      "_________________________________________________________________\n",
      " Layer (type)                Output Shape              Param #   \n",
      "=================================================================\n",
      " dense_26 (Dense)            (None, 300)               2700      \n",
      "                                                                 \n",
      " dense_27 (Dense)            (None, 100)               30100     \n",
      "                                                                 \n",
      " dense_28 (Dense)            (None, 1)                 101       \n",
      "                                                                 \n",
      "=================================================================\n",
      "Total params: 32901 (128.52 KB)\n",
      "Trainable params: 32901 (128.52 KB)\n",
      "Non-trainable params: 0 (0.00 Byte)\n",
      "_________________________________________________________________\n"
     ]
    }
   ],
   "source": [
    "model.summary()"
   ]
  },
  {
   "cell_type": "code",
   "execution_count": 275,
   "metadata": {},
   "outputs": [],
   "source": [
    "model.compile(loss=\"mse\", optimizer=\"sgd\",metrics=tf.keras.metrics.RootMeanSquaredError())"
   ]
  },
  {
   "cell_type": "code",
   "execution_count": 276,
   "metadata": {},
   "outputs": [
    {
     "name": "stdout",
     "output_type": "stream",
     "text": [
      "Epoch 1/30\n",
      "362/362 [==============================] - 0s 913us/step - loss: 0.9882 - root_mean_squared_error: 0.9941 - val_loss: 0.5887 - val_root_mean_squared_error: 0.7672\n",
      "Epoch 2/30\n",
      "362/362 [==============================] - 0s 734us/step - loss: 0.8671 - root_mean_squared_error: 0.9312 - val_loss: 0.4375 - val_root_mean_squared_error: 0.6614\n",
      "Epoch 3/30\n",
      "362/362 [==============================] - 0s 725us/step - loss: 0.4355 - root_mean_squared_error: 0.6599 - val_loss: 0.4011 - val_root_mean_squared_error: 0.6333\n",
      "Epoch 4/30\n",
      "362/362 [==============================] - 0s 724us/step - loss: 0.4100 - root_mean_squared_error: 0.6403 - val_loss: 0.3821 - val_root_mean_squared_error: 0.6182\n",
      "Epoch 5/30\n",
      "362/362 [==============================] - 0s 726us/step - loss: 0.3936 - root_mean_squared_error: 0.6274 - val_loss: 0.3908 - val_root_mean_squared_error: 0.6252\n",
      "Epoch 6/30\n",
      "362/362 [==============================] - 0s 697us/step - loss: 0.3828 - root_mean_squared_error: 0.6187 - val_loss: 0.4086 - val_root_mean_squared_error: 0.6392\n",
      "Epoch 7/30\n",
      "362/362 [==============================] - 0s 768us/step - loss: 0.3723 - root_mean_squared_error: 0.6102 - val_loss: 0.3968 - val_root_mean_squared_error: 0.6300\n",
      "Epoch 8/30\n",
      "362/362 [==============================] - 0s 729us/step - loss: 0.3670 - root_mean_squared_error: 0.6058 - val_loss: 0.3531 - val_root_mean_squared_error: 0.5942\n",
      "Epoch 9/30\n",
      "362/362 [==============================] - 0s 778us/step - loss: 0.3544 - root_mean_squared_error: 0.5953 - val_loss: 0.3376 - val_root_mean_squared_error: 0.5810\n",
      "Epoch 10/30\n",
      "362/362 [==============================] - 0s 713us/step - loss: 0.3519 - root_mean_squared_error: 0.5932 - val_loss: 0.3300 - val_root_mean_squared_error: 0.5745\n",
      "Epoch 11/30\n",
      "362/362 [==============================] - 0s 695us/step - loss: 0.3418 - root_mean_squared_error: 0.5846 - val_loss: 0.3424 - val_root_mean_squared_error: 0.5852\n",
      "Epoch 12/30\n",
      "362/362 [==============================] - 0s 726us/step - loss: 0.3363 - root_mean_squared_error: 0.5799 - val_loss: 0.3257 - val_root_mean_squared_error: 0.5707\n",
      "Epoch 13/30\n",
      "362/362 [==============================] - 0s 806us/step - loss: 0.3326 - root_mean_squared_error: 0.5767 - val_loss: 0.3264 - val_root_mean_squared_error: 0.5714\n",
      "Epoch 14/30\n",
      "362/362 [==============================] - 0s 699us/step - loss: 0.3285 - root_mean_squared_error: 0.5732 - val_loss: 0.3399 - val_root_mean_squared_error: 0.5830\n",
      "Epoch 15/30\n",
      "362/362 [==============================] - 0s 691us/step - loss: 0.3237 - root_mean_squared_error: 0.5690 - val_loss: 0.3177 - val_root_mean_squared_error: 0.5636\n",
      "Epoch 16/30\n",
      "362/362 [==============================] - 0s 691us/step - loss: 0.3180 - root_mean_squared_error: 0.5639 - val_loss: 0.3305 - val_root_mean_squared_error: 0.5749\n",
      "Epoch 17/30\n",
      "362/362 [==============================] - 0s 686us/step - loss: 0.3160 - root_mean_squared_error: 0.5622 - val_loss: 0.3347 - val_root_mean_squared_error: 0.5785\n",
      "Epoch 18/30\n",
      "362/362 [==============================] - 0s 681us/step - loss: 0.3182 - root_mean_squared_error: 0.5641 - val_loss: 0.3250 - val_root_mean_squared_error: 0.5701\n",
      "Epoch 19/30\n",
      "362/362 [==============================] - 0s 687us/step - loss: 0.3103 - root_mean_squared_error: 0.5571 - val_loss: 0.3048 - val_root_mean_squared_error: 0.5520\n",
      "Epoch 20/30\n",
      "362/362 [==============================] - 0s 757us/step - loss: 0.3071 - root_mean_squared_error: 0.5541 - val_loss: 0.3120 - val_root_mean_squared_error: 0.5586\n",
      "Epoch 21/30\n",
      "362/362 [==============================] - 0s 838us/step - loss: 0.3048 - root_mean_squared_error: 0.5521 - val_loss: 0.3058 - val_root_mean_squared_error: 0.5530\n",
      "Epoch 22/30\n",
      "362/362 [==============================] - 0s 855us/step - loss: 0.3047 - root_mean_squared_error: 0.5520 - val_loss: 0.3240 - val_root_mean_squared_error: 0.5692\n",
      "Epoch 23/30\n",
      "362/362 [==============================] - 0s 747us/step - loss: 0.3031 - root_mean_squared_error: 0.5505 - val_loss: 0.3111 - val_root_mean_squared_error: 0.5577\n",
      "Epoch 24/30\n",
      "362/362 [==============================] - 0s 739us/step - loss: 0.2996 - root_mean_squared_error: 0.5474 - val_loss: 0.2928 - val_root_mean_squared_error: 0.5411\n",
      "Epoch 25/30\n",
      "362/362 [==============================] - 0s 728us/step - loss: 0.2989 - root_mean_squared_error: 0.5467 - val_loss: 0.3130 - val_root_mean_squared_error: 0.5594\n",
      "Epoch 26/30\n",
      "362/362 [==============================] - 0s 699us/step - loss: 0.2974 - root_mean_squared_error: 0.5454 - val_loss: 0.3147 - val_root_mean_squared_error: 0.5610\n",
      "Epoch 27/30\n",
      "362/362 [==============================] - 0s 685us/step - loss: 0.2979 - root_mean_squared_error: 0.5458 - val_loss: 0.2939 - val_root_mean_squared_error: 0.5421\n",
      "Epoch 28/30\n",
      "362/362 [==============================] - 0s 687us/step - loss: 0.2911 - root_mean_squared_error: 0.5395 - val_loss: 0.3134 - val_root_mean_squared_error: 0.5598\n",
      "Epoch 29/30\n",
      "362/362 [==============================] - 0s 694us/step - loss: 0.2896 - root_mean_squared_error: 0.5382 - val_loss: 0.4681 - val_root_mean_squared_error: 0.6842\n",
      "Epoch 30/30\n",
      "362/362 [==============================] - 0s 681us/step - loss: 0.2902 - root_mean_squared_error: 0.5387 - val_loss: 0.3020 - val_root_mean_squared_error: 0.5495\n"
     ]
    }
   ],
   "source": [
    "history=model.fit(X_train,y_train, epochs=30, validation_data=(X_valid,y_valid))"
   ]
  },
  {
   "cell_type": "code",
   "execution_count": 277,
   "metadata": {},
   "outputs": [
    {
     "name": "stdout",
     "output_type": "stream",
     "text": [
      "129/129 [==============================] - 0s 391us/step - loss: 0.3166 - root_mean_squared_error: 0.5627\n"
     ]
    },
    {
     "data": {
      "text/plain": [
       "[0.31661275029182434, 0.5626835227012634]"
      ]
     },
     "execution_count": 277,
     "metadata": {},
     "output_type": "execute_result"
    }
   ],
   "source": [
    "model.evaluate(X_test,y_test)"
   ]
  },
  {
   "cell_type": "code",
   "execution_count": 278,
   "metadata": {},
   "outputs": [
    {
     "name": "stdout",
     "output_type": "stream",
     "text": [
      "1/1 [==============================] - 0s 30ms/step\n"
     ]
    },
    {
     "data": {
      "text/plain": [
       "array([[2.4561083]], dtype=float32)"
      ]
     },
     "execution_count": 278,
     "metadata": {},
     "output_type": "execute_result"
    }
   ],
   "source": [
    "model.predict(X_test[3:4])"
   ]
  },
  {
   "cell_type": "code",
   "execution_count": 279,
   "metadata": {},
   "outputs": [
    {
     "data": {
      "text/plain": [
       "array([2.186])"
      ]
     },
     "execution_count": 279,
     "metadata": {},
     "output_type": "execute_result"
    }
   ],
   "source": [
    "y_test[3:4]"
   ]
  },
  {
   "cell_type": "code",
   "execution_count": 280,
   "metadata": {},
   "outputs": [
    {
     "data": {
      "image/png": "[encoded data removed]",
      "text/plain": [
       "<Figure size 800x500 with 1 Axes>"
      ]
     },
     "metadata": {},
     "output_type": "display_data"
    }
   ],
   "source": [
    "pd.DataFrame(history.history).plot(figsize=(8,5))\n",
    "plt.show()"
   ]
  },
  {
   "cell_type": "markdown",
   "metadata": {},
   "source": [
    "#### 4. Keras Functional API"
   ]
  },
  {
   "cell_type": "code",
   "execution_count": 281,
   "metadata": {},
   "outputs": [],
   "source": [
    "input_=keras.layers.Input(shape=X_train.shape[1:])\n",
    "hidden_1=keras.layers.Dense(300, activation=\"relu\")(input_)\n",
    "hidden_2=keras.layers.Dense(100, activation=\"relu\")(hidden_1)\n",
    "concat=keras.layers.Concatenate()([input_,hidden_2])\n",
    "output=keras.layers.Dense(1,activation=\"relu\")(concat)\n",
    "model=keras.Model(inputs=[input_],outputs=[output])"
   ]
  },
  {
   "cell_type": "code",
   "execution_count": 283,
   "metadata": {},
   "outputs": [
    {
     "name": "stdout",
     "output_type": "stream",
     "text": [
      "Model: \"model\"\n",
      "__________________________________________________________________________________________________\n",
      " Layer (type)                Output Shape                 Param #   Connected to                  \n",
      "==================================================================================================\n",
      " input_1 (InputLayer)        [(None, 8)]                  0         []                            \n",
      "                                                                                                  \n",
      " dense_29 (Dense)            (None, 300)                  2700      ['input_1[0][0]']             \n",
      "                                                                                                  \n",
      " dense_30 (Dense)            (None, 100)                  30100     ['dense_29[0][0]']            \n",
      "                                                                                                  \n",
      " concatenate (Concatenate)   (None, 108)                  0         ['input_1[0][0]',             \n",
      "                                                                     'dense_30[0][0]']            \n",
      "                                                                                                  \n",
      " dense_31 (Dense)            (None, 1)                    109       ['concatenate[0][0]']         \n",
      "                                                                                                  \n",
      "==================================================================================================\n",
      "Total params: 32909 (128.55 KB)\n",
      "Trainable params: 32909 (128.55 KB)\n",
      "Non-trainable params: 0 (0.00 Byte)\n",
      "__________________________________________________________________________________________________\n"
     ]
    }
   ],
   "source": [
    "model.summary()"
   ]
  },
  {
   "cell_type": "code",
   "execution_count": 284,
   "metadata": {},
   "outputs": [],
   "source": [
    "model.compile(loss=\"mse\",optimizer=\"adam\",metrics=[tf.keras.metrics.RootMeanSquaredError()])"
   ]
  },
  {
   "cell_type": "markdown",
   "metadata": {},
   "source": [
    "__CallBacks__"
   ]
  },
  {
   "cell_type": "code",
   "execution_count": 288,
   "metadata": {},
   "outputs": [],
   "source": [
    "checkpoint=keras.callbacks.ModelCheckpoint(\"my_model.h5\", save_best_only=True)"
   ]
  },
  {
   "cell_type": "code",
   "execution_count": 289,
   "metadata": {},
   "outputs": [],
   "source": [
    "early_stopping=keras.callbacks.EarlyStopping(patience=10,restore_best_weights=True)"
   ]
  },
  {
   "cell_type": "code",
   "execution_count": 290,
   "metadata": {},
   "outputs": [
    {
     "name": "stdout",
     "output_type": "stream",
     "text": [
      "Epoch 1/300\n",
      "362/362 [==============================] - 0s 1ms/step - loss: 0.2590 - root_mean_squared_error: 0.5089 - val_loss: 0.2651 - val_root_mean_squared_error: 0.5149\n",
      "Epoch 2/300\n",
      "191/362 [==============>...............] - ETA: 0s - loss: 0.2597 - root_mean_squared_error: 0.5096"
     ]
    },
    {
     "name": "stderr",
     "output_type": "stream",
     "text": [
      "/Users/kim/Desktop/Github/KerasTF/.venv/lib/python3.11/site-packages/keras/src/engine/training.py:3103: UserWarning: You are saving your model as an HDF5 file via `model.save()`. This file format is considered legacy. We recommend using instead the native Keras format, e.g. `model.save('my_model.keras')`.\n",
      "  saving_api.save_model(\n"
     ]
    },
    {
     "name": "stdout",
     "output_type": "stream",
     "text": [
      "362/362 [==============================] - 0s 1ms/step - loss: 0.2606 - root_mean_squared_error: 0.5105 - val_loss: 0.2771 - val_root_mean_squared_error: 0.5264\n",
      "Epoch 3/300\n",
      "362/362 [==============================] - 0s 1ms/step - loss: 0.2518 - root_mean_squared_error: 0.5018 - val_loss: 0.2721 - val_root_mean_squared_error: 0.5217\n",
      "Epoch 4/300\n",
      "362/362 [==============================] - 0s 1ms/step - loss: 0.2491 - root_mean_squared_error: 0.4991 - val_loss: 0.2707 - val_root_mean_squared_error: 0.5203\n",
      "Epoch 5/300\n",
      "362/362 [==============================] - 0s 1ms/step - loss: 0.2488 - root_mean_squared_error: 0.4988 - val_loss: 0.2725 - val_root_mean_squared_error: 0.5220\n",
      "Epoch 6/300\n",
      "362/362 [==============================] - 0s 1ms/step - loss: 0.2475 - root_mean_squared_error: 0.4975 - val_loss: 0.2645 - val_root_mean_squared_error: 0.5143\n",
      "Epoch 7/300\n",
      "362/362 [==============================] - 0s 1ms/step - loss: 0.2487 - root_mean_squared_error: 0.4987 - val_loss: 0.2842 - val_root_mean_squared_error: 0.5331\n",
      "Epoch 8/300\n",
      "362/362 [==============================] - 0s 1ms/step - loss: 0.2435 - root_mean_squared_error: 0.4935 - val_loss: 0.2662 - val_root_mean_squared_error: 0.5160\n",
      "Epoch 9/300\n",
      "362/362 [==============================] - 0s 1ms/step - loss: 0.2470 - root_mean_squared_error: 0.4970 - val_loss: 0.2668 - val_root_mean_squared_error: 0.5165\n",
      "Epoch 10/300\n",
      "362/362 [==============================] - 0s 999us/step - loss: 0.2453 - root_mean_squared_error: 0.4953 - val_loss: 0.2598 - val_root_mean_squared_error: 0.5097\n",
      "Epoch 11/300\n",
      "362/362 [==============================] - 0s 1ms/step - loss: 0.4382 - root_mean_squared_error: 0.6619 - val_loss: 0.2996 - val_root_mean_squared_error: 0.5473\n",
      "Epoch 12/300\n",
      "362/362 [==============================] - 0s 990us/step - loss: 0.2626 - root_mean_squared_error: 0.5125 - val_loss: 0.2588 - val_root_mean_squared_error: 0.5087\n",
      "Epoch 13/300\n",
      "362/362 [==============================] - 0s 1ms/step - loss: 0.2453 - root_mean_squared_error: 0.4953 - val_loss: 0.2565 - val_root_mean_squared_error: 0.5065\n",
      "Epoch 14/300\n",
      "362/362 [==============================] - 0s 1ms/step - loss: 0.2417 - root_mean_squared_error: 0.4916 - val_loss: 0.2499 - val_root_mean_squared_error: 0.4999\n",
      "Epoch 15/300\n",
      "362/362 [==============================] - 0s 973us/step - loss: 0.2394 - root_mean_squared_error: 0.4893 - val_loss: 0.2523 - val_root_mean_squared_error: 0.5023\n",
      "Epoch 16/300\n",
      "362/362 [==============================] - 0s 1ms/step - loss: 0.2364 - root_mean_squared_error: 0.4863 - val_loss: 0.2566 - val_root_mean_squared_error: 0.5066\n",
      "Epoch 17/300\n",
      "362/362 [==============================] - 0s 996us/step - loss: 0.2336 - root_mean_squared_error: 0.4834 - val_loss: 0.2579 - val_root_mean_squared_error: 0.5078\n",
      "Epoch 18/300\n",
      "362/362 [==============================] - 0s 966us/step - loss: 0.2303 - root_mean_squared_error: 0.4799 - val_loss: 0.2705 - val_root_mean_squared_error: 0.5201\n",
      "Epoch 19/300\n",
      "362/362 [==============================] - 0s 989us/step - loss: 0.2322 - root_mean_squared_error: 0.4819 - val_loss: 0.2702 - val_root_mean_squared_error: 0.5198\n",
      "Epoch 20/300\n",
      "362/362 [==============================] - 0s 1ms/step - loss: 0.2369 - root_mean_squared_error: 0.4868 - val_loss: 0.2621 - val_root_mean_squared_error: 0.5120\n",
      "Epoch 21/300\n",
      "362/362 [==============================] - 0s 986us/step - loss: 0.2304 - root_mean_squared_error: 0.4800 - val_loss: 0.2620 - val_root_mean_squared_error: 0.5119\n",
      "Epoch 22/300\n",
      "362/362 [==============================] - 0s 971us/step - loss: 0.2273 - root_mean_squared_error: 0.4768 - val_loss: 0.2489 - val_root_mean_squared_error: 0.4989\n",
      "Epoch 23/300\n",
      "362/362 [==============================] - 0s 982us/step - loss: 0.2280 - root_mean_squared_error: 0.4775 - val_loss: 0.2613 - val_root_mean_squared_error: 0.5112\n",
      "Epoch 24/300\n",
      "362/362 [==============================] - 0s 999us/step - loss: 0.2288 - root_mean_squared_error: 0.4784 - val_loss: 0.2747 - val_root_mean_squared_error: 0.5241\n",
      "Epoch 25/300\n",
      "362/362 [==============================] - 0s 1ms/step - loss: 0.2263 - root_mean_squared_error: 0.4757 - val_loss: 0.3706 - val_root_mean_squared_error: 0.6088\n",
      "Epoch 26/300\n",
      "362/362 [==============================] - 0s 982us/step - loss: 0.3351 - root_mean_squared_error: 0.5789 - val_loss: 0.2739 - val_root_mean_squared_error: 0.5233\n",
      "Epoch 27/300\n",
      "362/362 [==============================] - 0s 1ms/step - loss: 0.2331 - root_mean_squared_error: 0.4828 - val_loss: 0.2547 - val_root_mean_squared_error: 0.5047\n",
      "Epoch 28/300\n",
      "362/362 [==============================] - 0s 1ms/step - loss: 0.2272 - root_mean_squared_error: 0.4767 - val_loss: 0.2498 - val_root_mean_squared_error: 0.4998\n",
      "Epoch 29/300\n",
      "362/362 [==============================] - 0s 1ms/step - loss: 0.2266 - root_mean_squared_error: 0.4760 - val_loss: 0.2497 - val_root_mean_squared_error: 0.4997\n",
      "Epoch 30/300\n",
      "362/362 [==============================] - 0s 975us/step - loss: 0.2214 - root_mean_squared_error: 0.4706 - val_loss: 0.2614 - val_root_mean_squared_error: 0.5113\n",
      "Epoch 31/300\n",
      "362/362 [==============================] - 0s 968us/step - loss: 0.2209 - root_mean_squared_error: 0.4700 - val_loss: 0.2656 - val_root_mean_squared_error: 0.5154\n",
      "Epoch 32/300\n",
      "362/362 [==============================] - 0s 958us/step - loss: 0.2276 - root_mean_squared_error: 0.4771 - val_loss: 0.2621 - val_root_mean_squared_error: 0.5119\n"
     ]
    }
   ],
   "source": [
    "history=model.fit(X_train,y_train, epochs=300, validation_data=(X_valid,y_valid), callbacks=[checkpoint,early_stopping])"
   ]
  },
  {
   "cell_type": "code",
   "execution_count": 291,
   "metadata": {},
   "outputs": [
    {
     "data": {
      "text/plain": [
       "<function matplotlib.pyplot.show(close=None, block=None)>"
      ]
     },
     "execution_count": 291,
     "metadata": {},
     "output_type": "execute_result"
    },
    {
     "data": {
      "image/png": "[encoded data removed]",
      "text/plain": [
       "<Figure size 800x500 with 1 Axes>"
      ]
     },
     "metadata": {},
     "output_type": "display_data"
    }
   ],
   "source": [
    "pd.DataFrame(history.history).plot(figsize=(8,5))\n",
    "plt.show"
   ]
  },
  {
   "cell_type": "code",
   "execution_count": 292,
   "metadata": {},
   "outputs": [
    {
     "name": "stdout",
     "output_type": "stream",
     "text": [
      "129/129 [==============================] - 0s 462us/step - loss: 0.2582 - root_mean_squared_error: 0.5081\n"
     ]
    },
    {
     "data": {
      "text/plain": [
       "[0.25818195939064026, 0.5081160664558411]"
      ]
     },
     "execution_count": 292,
     "metadata": {},
     "output_type": "execute_result"
    }
   ],
   "source": [
    "model.evaluate(X_test,y_test)"
   ]
  },
  {
   "cell_type": "markdown",
   "metadata": {},
   "source": [
    "#### 5. Using TensorBoard"
   ]
  },
  {
   "cell_type": "code",
   "execution_count": 293,
   "metadata": {},
   "outputs": [],
   "source": [
    "import os\n",
    "log_dir=os.path.join(os.curdir,\"logs\")"
   ]
  },
  {
   "cell_type": "code",
   "execution_count": 294,
   "metadata": {},
   "outputs": [],
   "source": [
    "def run_logdir():\n",
    "    import time\n",
    "    run_id=time.strftime(\"run_%Y_%m_%d-%H_%M_%S\")\n",
    "    return os.path.join(log_dir, run_id)"
   ]
  },
  {
   "cell_type": "code",
   "execution_count": 301,
   "metadata": {},
   "outputs": [],
   "source": [
    "tensorboard_cb=keras.callbacks.TensorBoard(run_logdir())"
   ]
  },
  {
   "cell_type": "code",
   "execution_count": 305,
   "metadata": {},
   "outputs": [
    {
     "name": "stdout",
     "output_type": "stream",
     "text": [
      "Epoch 1/30\n",
      "362/362 [==============================] - 0s 1ms/step - loss: 0.1712 - root_mean_squared_error: 0.4137 - val_loss: 0.2712 - val_root_mean_squared_error: 0.5207\n",
      "Epoch 2/30\n",
      "362/362 [==============================] - 0s 1ms/step - loss: 0.1785 - root_mean_squared_error: 0.4224 - val_loss: 0.2651 - val_root_mean_squared_error: 0.5149\n",
      "Epoch 3/30\n",
      "362/362 [==============================] - 0s 1ms/step - loss: 0.1755 - root_mean_squared_error: 0.4189 - val_loss: 0.2686 - val_root_mean_squared_error: 0.5182\n",
      "Epoch 4/30\n",
      "362/362 [==============================] - 0s 1ms/step - loss: 0.1724 - root_mean_squared_error: 0.4153 - val_loss: 0.2666 - val_root_mean_squared_error: 0.5164\n",
      "Epoch 5/30\n",
      "362/362 [==============================] - 0s 992us/step - loss: 0.1708 - root_mean_squared_error: 0.4133 - val_loss: 0.2609 - val_root_mean_squared_error: 0.5108\n",
      "Epoch 6/30\n",
      "362/362 [==============================] - 0s 995us/step - loss: 0.1721 - root_mean_squared_error: 0.4149 - val_loss: 0.2692 - val_root_mean_squared_error: 0.5189\n",
      "Epoch 7/30\n",
      "362/362 [==============================] - 0s 982us/step - loss: 0.1693 - root_mean_squared_error: 0.4114 - val_loss: 0.2754 - val_root_mean_squared_error: 0.5248\n",
      "Epoch 8/30\n",
      "362/362 [==============================] - 0s 992us/step - loss: 0.1707 - root_mean_squared_error: 0.4131 - val_loss: 0.2574 - val_root_mean_squared_error: 0.5073\n",
      "Epoch 9/30\n",
      "362/362 [==============================] - 0s 1ms/step - loss: 0.1689 - root_mean_squared_error: 0.4110 - val_loss: 0.2645 - val_root_mean_squared_error: 0.5143\n",
      "Epoch 10/30\n",
      "362/362 [==============================] - 0s 990us/step - loss: 0.1664 - root_mean_squared_error: 0.4080 - val_loss: 0.2663 - val_root_mean_squared_error: 0.5160\n",
      "Epoch 11/30\n",
      "362/362 [==============================] - 0s 994us/step - loss: 0.1667 - root_mean_squared_error: 0.4083 - val_loss: 0.2855 - val_root_mean_squared_error: 0.5343\n",
      "Epoch 12/30\n",
      "362/362 [==============================] - 0s 1ms/step - loss: 0.1630 - root_mean_squared_error: 0.4038 - val_loss: 0.2637 - val_root_mean_squared_error: 0.5135\n",
      "Epoch 13/30\n",
      "362/362 [==============================] - 0s 1ms/step - loss: 0.1649 - root_mean_squared_error: 0.4061 - val_loss: 0.2699 - val_root_mean_squared_error: 0.5195\n",
      "Epoch 14/30\n",
      "362/362 [==============================] - 0s 1ms/step - loss: 0.1662 - root_mean_squared_error: 0.4076 - val_loss: 0.2592 - val_root_mean_squared_error: 0.5091\n",
      "Epoch 15/30\n",
      "362/362 [==============================] - 0s 1ms/step - loss: 0.1601 - root_mean_squared_error: 0.4001 - val_loss: 0.2678 - val_root_mean_squared_error: 0.5175\n",
      "Epoch 16/30\n",
      "362/362 [==============================] - 0s 1ms/step - loss: 0.1643 - root_mean_squared_error: 0.4053 - val_loss: 0.2688 - val_root_mean_squared_error: 0.5184\n",
      "Epoch 17/30\n",
      "362/362 [==============================] - 0s 985us/step - loss: 0.1606 - root_mean_squared_error: 0.4008 - val_loss: 0.2658 - val_root_mean_squared_error: 0.5156\n",
      "Epoch 18/30\n",
      "362/362 [==============================] - 0s 994us/step - loss: 0.1621 - root_mean_squared_error: 0.4026 - val_loss: 0.2953 - val_root_mean_squared_error: 0.5434\n",
      "Epoch 19/30\n",
      "362/362 [==============================] - 0s 1ms/step - loss: 0.1605 - root_mean_squared_error: 0.4006 - val_loss: 0.2733 - val_root_mean_squared_error: 0.5228\n",
      "Epoch 20/30\n",
      "362/362 [==============================] - 0s 1ms/step - loss: 0.1588 - root_mean_squared_error: 0.3985 - val_loss: 0.2808 - val_root_mean_squared_error: 0.5299\n",
      "Epoch 21/30\n",
      "362/362 [==============================] - 0s 1ms/step - loss: 0.1614 - root_mean_squared_error: 0.4018 - val_loss: 0.2710 - val_root_mean_squared_error: 0.5206\n",
      "Epoch 22/30\n",
      "362/362 [==============================] - 0s 1ms/step - loss: 0.1632 - root_mean_squared_error: 0.4040 - val_loss: 0.2849 - val_root_mean_squared_error: 0.5337\n",
      "Epoch 23/30\n",
      "362/362 [==============================] - 0s 1ms/step - loss: 0.1560 - root_mean_squared_error: 0.3950 - val_loss: 0.2767 - val_root_mean_squared_error: 0.5261\n",
      "Epoch 24/30\n",
      "362/362 [==============================] - 0s 1ms/step - loss: 0.1562 - root_mean_squared_error: 0.3952 - val_loss: 0.2717 - val_root_mean_squared_error: 0.5212\n",
      "Epoch 25/30\n",
      "362/362 [==============================] - 0s 1ms/step - loss: 0.1597 - root_mean_squared_error: 0.3996 - val_loss: 0.2721 - val_root_mean_squared_error: 0.5216\n",
      "Epoch 26/30\n",
      "362/362 [==============================] - 0s 1ms/step - loss: 0.1581 - root_mean_squared_error: 0.3976 - val_loss: 0.2767 - val_root_mean_squared_error: 0.5260\n",
      "Epoch 27/30\n",
      "362/362 [==============================] - 0s 1ms/step - loss: 0.1565 - root_mean_squared_error: 0.3956 - val_loss: 0.2745 - val_root_mean_squared_error: 0.5239\n",
      "Epoch 28/30\n",
      "362/362 [==============================] - 0s 1ms/step - loss: 0.1561 - root_mean_squared_error: 0.3950 - val_loss: 0.2626 - val_root_mean_squared_error: 0.5124\n",
      "Epoch 29/30\n",
      "362/362 [==============================] - 0s 1ms/step - loss: 0.1522 - root_mean_squared_error: 0.3901 - val_loss: 0.2794 - val_root_mean_squared_error: 0.5286\n",
      "Epoch 30/30\n",
      "362/362 [==============================] - 0s 1ms/step - loss: 0.1540 - root_mean_squared_error: 0.3924 - val_loss: 0.2687 - val_root_mean_squared_error: 0.5184\n"
     ]
    }
   ],
   "source": [
    "history=model.fit(X_train,y_train,epochs=30,validation_data=(X_valid,y_valid), callbacks=[tensorboard_cb])"
   ]
  },
  {
   "cell_type": "code",
   "execution_count": 303,
   "metadata": {},
   "outputs": [],
   "source": [
    "%load_ext tensorboard"
   ]
  },
  {
   "cell_type": "code",
   "execution_count": 306,
   "metadata": {},
   "outputs": [
    {
     "data": {
      "text/plain": [
       "Reusing TensorBoard on port 6006 (pid 14006), started 0:01:40 ago. (Use '!kill 14006' to kill it.)"
      ]
     },
     "metadata": {},
     "output_type": "display_data"
    },
    {
     "data": {
      "text/html": [
       "\n",
       "      <iframe id=\"tensorboard-frame-203fe9c8656f4e20\" width=\"100%\" height=\"800\" frameborder=\"0\">\n",
       "      </iframe>\n",
       "      <script>\n",
       "        (function() {\n",
       "          const frame = document.getElementById(\"tensorboard-frame-203fe9c8656f4e20\");\n",
       "          const url = new URL(\"http://localhost\");\n",
       "          const port = 6006;\n",
       "          if (port) {\n",
       "            url.port = port;\n",
       "          }\n",
       "          frame.src = url;\n",
       "        })();\n",
       "      </script>\n",
       "    "
      ],
      "text/plain": [
       "<IPython.core.display.HTML object>"
      ]
     },
     "metadata": {},
     "output_type": "display_data"
    }
   ],
   "source": [
    "%tensorboard --logdir=./logs --port 6006"
   ]
  },
  {
   "cell_type": "code",
   "execution_count": 307,
   "metadata": {},
   "outputs": [],
   "source": [
    "!kill 14006"
   ]
  },
  {
   "cell_type": "markdown",
   "metadata": {},
   "source": [
    "#### 6. Finetuning Hyperparameters"
   ]
  },
  {
   "cell_type": "code",
   "execution_count": 308,
   "metadata": {},
   "outputs": [],
   "source": [
    "def build_model(n_hidden=1, n_neurons=30, learning_rate=3e-3, input_shape=[8]):\n",
    "    model=keras.models.Sequential()\n",
    "    model.add(keras.layers.InputLayer(input_shape=input_shape))\n",
    "    for layer in range(n_hidder):\n",
    "        model.add(keras.layers.Dense(n_neurons, activation=\"relu\"))\n",
    "    model.add(keras.layers.Dense(1))\n",
    "    optimizer=keras.optimizers.SGD(learning_rate=learning_rate)\n",
    "    model.compile(loss=\"mse\",optimizer=optimizer)\n",
    "    return model"
   ]
  },
  {
   "cell_type": "code",
   "execution_count": 310,
   "metadata": {},
   "outputs": [
    {
     "ename": "AttributeError",
     "evalue": "module 'keras.api._v2.keras' has no attribute 'wrappers'",
     "output_type": "error",
     "traceback": [
      "\u001b[0;31m---------------------------------------------------------------------------\u001b[0m",
      "\u001b[0;31mAttributeError\u001b[0m                            Traceback (most recent call last)",
      "\u001b[1;32m/Users/kim/Desktop/Github/KerasTF/Notebook.ipynb Cell 83\u001b[0m line \u001b[0;36m1\n\u001b[0;32m----> <a href='vscode-notebook-cell:/Users/kim/Desktop/Github/KerasTF/Notebook.ipynb#Y155sZmlsZQ%3D%3D?line=0'>1</a>\u001b[0m keras_reg\u001b[39m=\u001b[39mtf\u001b[39m.\u001b[39;49mkeras\u001b[39m.\u001b[39;49mwrappers\u001b[39m.\u001b[39mscikit_learn\u001b[39m.\u001b[39mKerasRegressor(build_model)\n",
      "\u001b[0;31mAttributeError\u001b[0m: module 'keras.api._v2.keras' has no attribute 'wrappers'"
     ]
    }
   ],
   "source": [
    "keras_reg=tf.keras.wrappers.scikit_learn.KerasRegressor(build_model)"
   ]
  },
  {
   "cell_type": "code",
   "execution_count": null,
   "metadata": {},
   "outputs": [],
   "source": []
  }
 ],
 "metadata": {
  "kernelspec": {
   "display_name": ".venv",
   "language": "python",
   "name": "python3"
  },
  "language_info": {
   "codemirror_mode": {
    "name": "ipython",
    "version": 3
   },
   "file_extension": ".py",
   "mimetype": "text/x-python",
   "name": "python",
   "nbconvert_exporter": "python",
   "pygments_lexer": "ipython3",
   "version": "3.11.1"
  }
 },
 "nbformat": 4,
 "nbformat_minor": 2
}
